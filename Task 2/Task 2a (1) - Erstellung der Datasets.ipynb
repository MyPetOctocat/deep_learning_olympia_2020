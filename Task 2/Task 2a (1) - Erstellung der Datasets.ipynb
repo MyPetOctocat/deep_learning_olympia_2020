{
 "cells": [
  {
   "cell_type": "code",
   "execution_count": null,
   "metadata": {},
   "outputs": [],
   "source": [
    "import os\n",
    "import cv2\n",
    "import numpy as np\n",
    "import pandas as pd\n",
    "from tqdm import tqdm"
   ]
  },
  {
   "cell_type": "code",
   "execution_count": null,
   "metadata": {},
   "outputs": [],
   "source": [
    "# Laden der CSV\n",
    "df = pd.read_csv(\"/home/dl4/Task2/Listen/Labelvorbereitung_all.csv\", sep=\",\")\n",
    "pd.set_option('display.max_rows', df.shape[0]+1)\n",
    "\n",
    "# Setzen der Filter für die CSV\n",
    "#df = df[df.Sprungkategorie == \"Doppelspringer\"]\n",
    "df = df[df.Sprungkategorie == \"Einzelspringer\"]\n",
    "df = df[df.Qualität == \"gut\"]\n",
    "#df = df[df.ID < 164]"
   ]
  },
  {
   "cell_type": "code",
   "execution_count": null,
   "metadata": {},
   "outputs": [],
   "source": [
    "#Bearbeiten der Spalte \"Videoname\"\n",
    "df['Video_Namen'] = df['Video_Namen'].str.rstrip('mp4') \n",
    "df['Video_Namen'] = df['Video_Namen'].str.rstrip('.')\n",
    "\n",
    "# Pixelgröße bestimmen\n",
    "img_resize = 128\n",
    "\n",
    "# Erstellung zweier Listen für die Frames und die Label\n",
    "Frames = []\n",
    "Label = []\n",
    "\n",
    "# Video in Frames umwandeln\n",
    "for i in df.index:\n",
    "    vidcap = cv2.VideoCapture('/home/dl4/Task2/Videos/'+df['Video_Namen'][i]+'.mp4')        \n",
    "    success, image= vidcap.read()\n",
    "    count = 1\n",
    "\n",
    "    #Bilder anhand des eintages \"First_Water_Frame\" in \"Airframes\" (0) und \"Waterframe\" (1) labeln\n",
    "    while success:\n",
    "        if count < df['First_Water_Frame'][i]:\n",
    "            \n",
    "            # Filterauswahl für die Bilder\n",
    "            image = cv2.cvtColor(image, cv2.COLOR_BGR2RGB)\n",
    "            #image = cv2.cvtColor(image, cv2.COLOR_BGR2HSV)\n",
    "            #image = cv2.cvtColor(image, cv2.COLOR_BGR2HLS)\n",
    "            #image = cv2.cvtColor(image, cv2.COLOR_BGR2YCrCb)\n",
    "            \n",
    "            # Gegebenenfalls Bildgröße anpassen\n",
    "            if img_resize > 1:\n",
    "                resized = cv2.resize(image, (img_resize, img_resize))\n",
    "                Frames.append(resized)\n",
    "            else:\n",
    "                Frames.append(image)\n",
    "            Label.append(0)\n",
    "            success, image = vidcap.read()\n",
    "            \n",
    "            \n",
    "        else:\n",
    "            image = cv2.cvtColor(image, cv2.COLOR_BGR2RGB)\n",
    "            #image = cv2.cvtColor(image, cv2.COLOR_BGR2HSV)\n",
    "            #image = cv2.cvtColor(image, cv2.COLOR_BGR2HLS)\n",
    "            #image = cv2.cvtColor(image, cv2.COLOR_BGR2YCrCb)\n",
    "            if img_resize > 1:\n",
    "                resized = cv2.resize(image, (img_resize, img_resize))\n",
    "                Frames.append(resized)\n",
    "            else:\n",
    "                Frames.append(image)\n",
    "            Label.append(1)\n",
    "            success, image = vidcap.read()\n",
    "\n",
    "        count+=1 \n",
    "        \n",
    "# Die Listen Frames und Label werden in ein C gespeichert   \n",
    "Allframes = {\"frames\": Frames, \"label\": Label}"
   ]
  },
  {
   "cell_type": "code",
   "execution_count": null,
   "metadata": {},
   "outputs": [],
   "source": [
    "# Dictionary wird in einem Pickle gespeichert\n",
    "import pickle \n",
    "\n",
    "with open('All_frames_RGB_128.pkl', 'wb') as f:\n",
    "    pickle.dump(Allframes, f)"
   ]
  }
 ],
 "metadata": {
  "kernelspec": {
   "display_name": "Python 3",
   "language": "python",
   "name": "python3"
  },
  "language_info": {
   "codemirror_mode": {
    "name": "ipython",
    "version": 3
   },
   "file_extension": ".py",
   "mimetype": "text/x-python",
   "name": "python",
   "nbconvert_exporter": "python",
   "pygments_lexer": "ipython3",
   "version": "3.8.5"
  }
 },
 "nbformat": 4,
 "nbformat_minor": 2
}
