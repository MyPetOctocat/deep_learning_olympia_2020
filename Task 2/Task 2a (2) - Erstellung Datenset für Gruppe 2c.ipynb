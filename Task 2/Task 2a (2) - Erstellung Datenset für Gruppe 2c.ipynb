{
 "cells": [
  {
   "cell_type": "code",
   "execution_count": null,
   "metadata": {},
   "outputs": [],
   "source": [
    "# Vidoes in Bilder zerzeilen und seperat speichern\n",
    "import cv2\n",
    "import os\n",
    "\n",
    "# Alle \"_8Vy3dlHg2w_xxxxxx\" Videos werden in Frames aufgesplittet\n",
    "for i in range (132,225):\n",
    "    \n",
    "    try:\n",
    "        vidcap = cv2.VideoCapture('/home/dl4/Task2/Videos/_8Vy3dlHg2w_00'+str(i).zfill(3)+'.mp4')\n",
    "    #Vicap.read() prüft, ob das Bild des Videos geladen ist und gibt die aktuelle Bilddatei zurück\n",
    "        os.makedirs('Video_Frames/_8Vy3dlHg2w_00'+str(i).zfill(3))\n",
    "    except:\n",
    "        i +1\n",
    "    success, image = vidcap.read()\n",
    "    count = 1\n",
    "    \n",
    "    # Frames werden in Ordner gespeichert\n",
    "    while success:\n",
    "        cv2.imwrite('Video_Frames/_8Vy3dlHg2w_00'+str(i).zfill(3)+'/'+str(count)+'.jpg',image)\n",
    "        success, image = vidcap.read()\n",
    "        count += 1"
   ]
  },
  {
   "cell_type": "code",
   "execution_count": null,
   "metadata": {},
   "outputs": [],
   "source": [
    "# Alle \"_lmT4WlK7G0_xxxxxx\" Videos werden in Frames aufgesplittet\n",
    "for i in range (0,125):\n",
    "    \n",
    "    try:\n",
    "        vidcap = cv2.VideoCapture('/home/dl4/Task2/Videos/_lmT4WlK7G0_00'+str(i).zfill(3)+'.mp4')\n",
    "    #Vicap.read() prüft, ob das Bild des Videos geladen ist und gibt die aktuelle Bilddatei zurück\n",
    "        os.makedirs('Video_Frames/_lmT4WlK7G0_00'+str(i).zfill(3))\n",
    "    except:\n",
    "        i +1\n",
    "    success, image = vidcap.read()\n",
    "    count = 1\n",
    "    \n",
    "    # Frames werden in Ordner gespeichert\n",
    "    while success:\n",
    "        cv2.imwrite('Video_Frames/_lmT4WlK7G0_00'+str(i).zfill(3)+'/'+str(count)+'.jpg',image)\n",
    "        success, image = vidcap.read()\n",
    "        count += 1"
   ]
  },
  {
   "cell_type": "code",
   "execution_count": null,
   "metadata": {},
   "outputs": [],
   "source": [
    "# Alle \"_tigfCJFLZg_xxxxxx\" Videos werden in Frames aufgesplittet\n",
    "for i in range (0,437):\n",
    "    \n",
    "    try:\n",
    "        vidcap = cv2.VideoCapture('/home/dl4/Task2/Videos/_tigfCJFLZg_00'+str(i).zfill(3)+'.mp4')\n",
    "    #Vicap.read() prüft, ob das Bild des Videos geladen ist und gibt die aktuelle Bilddatei zurück\n",
    "        os.makedirs('Video_Frames/_tigfCJFLZg_00'+str(i).zfill(3))\n",
    "    except:\n",
    "        i +1\n",
    "    success, image = vidcap.read()\n",
    "    count = 1\n",
    "    \n",
    "    # Frames werden in Ordner gespeichert\n",
    "    while success:\n",
    "        cv2.imwrite('Video_Frames/_tigfCJFLZg_00'+str(i).zfill(3)+'/'+str(count)+'.jpg',image)\n",
    "        success, image = vidcap.read()\n",
    "        print('Saved image ', count)\n",
    "        count += 1"
   ]
  },
  {
   "cell_type": "code",
   "execution_count": null,
   "metadata": {},
   "outputs": [],
   "source": [
    "# Frames mit dem Filter \"nipy_spectral\" für Gruppe 2c vorbereitet\n",
    "\n",
    "# Pfad der Bilder\n",
    "directory = r'/home/dl4/Task2/Videos/filter'\n",
    "\n",
    "for filename in os.listdir(directory):\n",
    "    \n",
    "    image = cv2.imread(directory + \"/\" + filename)\n",
    "    \n",
    "    if filename == \".ipynb_checkpoints\":\n",
    "        pass\n",
    "        \n",
    "    else:\n",
    "        # Frames zuerst von BGR in GRAY umgewandet und dann den Filter \"nipy_spectral\" aufgelegt\n",
    "        plt.imshow(cv2.cvtColor(image, cv2.COLOR_BGR2GRAY), cmap='nipy_spectral')\n",
    "        # Achsen entfernen\n",
    "        plt.axis('off')\n",
    "        # Frame in Auflösung 640x480 gespeichert\n",
    "        plt.savefig('/home/dl4/Task2/FILTERED_FRAMES/filtered/{}'.format(filename) , dpi=159, bbox_inches='tight', pad_inches=0)\n",
    "        "
   ]
  }
 ],
 "metadata": {
  "kernelspec": {
   "display_name": "Python 3",
   "language": "python",
   "name": "python3"
  },
  "language_info": {
   "codemirror_mode": {
    "name": "ipython",
    "version": 3
   },
   "file_extension": ".py",
   "mimetype": "text/x-python",
   "name": "python",
   "nbconvert_exporter": "python",
   "pygments_lexer": "ipython3",
   "version": "3.8.5"
  }
 },
 "nbformat": 4,
 "nbformat_minor": 2
}
