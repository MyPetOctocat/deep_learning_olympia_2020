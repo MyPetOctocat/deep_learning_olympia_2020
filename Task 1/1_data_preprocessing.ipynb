{
 "cells": [
  {
   "cell_type": "markdown",
   "metadata": {},
   "source": [
    "# Erstellung des Datensatzes"
   ]
  },
  {
   "cell_type": "code",
   "execution_count": 1,
   "metadata": {},
   "outputs": [],
   "source": [
    "import os\n",
    "import cv2\n",
    "import numpy as np\n",
    "from tqdm import tqdm"
   ]
  },
  {
   "cell_type": "code",
   "execution_count": 2,
   "metadata": {},
   "outputs": [],
   "source": [
    "class DataPrep:\n",
    "    def __init__(self, size, name):\n",
    "        # Format/Auflösung der Trainingsbilder\n",
    "        self.img_size = size\n",
    "        # Benennung des erstellten datensatzes\n",
    "        self.dateiname = name\n",
    "        # Directories der gelabelten Bilder\n",
    "        self.side = \"/home/dl4/Side\" # Für Testvideos --->   \"/home/dl4/Labeled_Videos_Test/Side\"\n",
    "        self.front = \"/home/dl4/Front\" # Für Testvideos --->   /home/dl4/Labeled_Videos_Test/Front\n",
    "        self.downwards = \"/home/dl4/Downwards\" # Für Testvideos --->   /home/dl4/Labeled_Videos_Test/Downwards\n",
    "        self.upwards = \"/home/dl4/Upwards\" # Für Testvideos --->   /home/dl4/Labeled_Videos_Test/Upwards\n",
    "        # Konvertieren der Directory-Labels in numerische Werte\n",
    "        self.labels = {self.side: 0, self.front: 1, self.downwards: 2, self.upwards: 3}\n",
    "        # Trainingsdaten mit allen transformierten Bildern und deren passendes Label\n",
    "        self.training_data = []\n",
    "        # Anzahl der Trainingsdaten pro Label -> Verhältnisse einsehen\n",
    "        self.side_count = 0\n",
    "        self.front_count = 0\n",
    "        self.downwards_count = 0\n",
    "        self.upwards_count = 0\n",
    "        \n",
    "    \n",
    "    def make_training_data(self):\n",
    "        #iteration über folder (Side, Front, ...)\n",
    "        for label in self.labels:\n",
    "            #iteration über jeden file/image im folder\n",
    "            for filename in tqdm(os.listdir(label)):\n",
    "                try:\n",
    "                    #Konkatenation des folder pfads mit dem image Namen --> Speicherort des Bildes für cv2 operationen\n",
    "                    path = os.path.join(label, filename)\n",
    "                    # Transformation der Bilder\n",
    "                    #print(path)\n",
    "                    img = cv2.imread(path, cv2.IMREAD_COLOR)\n",
    "                    img = cv2.resize(img, (self.img_size, self.img_size))\n",
    "                    #Data augmentation für das Training <-- für Testdaten ausschalten\n",
    "                        #img_flip = cv2.flip(img, 1)\n",
    "                    self.training_data.append([np.array(img), self.labels[label]])\n",
    "                    # Append gespiegeltes Bild <-- für Testdaten ausschalten\n",
    "                        #self.training_data.append([np.array(img_flip), self.labels[label]])\n",
    "\n",
    "                    # einfacher Zähler für die labels\n",
    "                    if label == self.side:\n",
    "                        self.side_count += 1\n",
    "                    elif label == self.front:\n",
    "                        self.front_count += 1\n",
    "                    elif label == self.downwards:\n",
    "                        self.downwards_count += 1\n",
    "                    elif label == self.upwards:\n",
    "                        self.upwards_count += 1\n",
    "\n",
    "                #exception für komische nicht-img files   \n",
    "                except Exception as e:\n",
    "                    print(e)\n",
    "                    print(path)\n",
    "        \n",
    "        #nachdem das np.array erstellt wurde, soll dieser gemischt werden\n",
    "        np.random.shuffle(self.training_data)\n",
    "        \n",
    "        #np array speichern um damit das modell zu trainieren\n",
    "        np.save('/home/dl4/testing_datasets/' + self.dateiname, self.training_data)\n",
    "        \n",
    "        print(\"Side:\\t\", self.side_count)\n",
    "        print(\"Front:\\t\", self.front_count)\n",
    "        print(\"Downwards:\\t\", self.downwards_count)\n",
    "        print(\"Upwards:\\t\", self.upwards_count)"
   ]
  },
  {
   "cell_type": "code",
   "execution_count": 3,
   "metadata": {},
   "outputs": [
    {
     "name": "stderr",
     "output_type": "stream",
     "text": [
      " 74%|███████▍  | 3308/4460 [00:12<00:04, 263.82it/s]"
     ]
    },
    {
     "name": "stdout",
     "output_type": "stream",
     "text": [
      "OpenCV(4.4.0) /tmp/pip-req-build-99ib2vsi/opencv/modules/imgproc/src/resize.cpp:3929: error: (-215:Assertion failed) !ssize.empty() in function 'resize'\n",
      "\n",
      "/home/dl4/Side/.ipynb_checkpoints\n"
     ]
    },
    {
     "name": "stderr",
     "output_type": "stream",
     "text": [
      "100%|██████████| 4460/4460 [00:17<00:00, 261.45it/s]\n",
      "100%|██████████| 2333/2333 [00:08<00:00, 285.72it/s]\n",
      "100%|██████████| 1107/1107 [00:03<00:00, 281.31it/s]\n",
      "100%|██████████| 401/401 [00:01<00:00, 273.39it/s]\n",
      "/home/dl4/anaconda3/envs/tf-gpu/lib/python3.8/site-packages/numpy/core/_asarray.py:136: VisibleDeprecationWarning: Creating an ndarray from ragged nested sequences (which is a list-or-tuple of lists-or-tuples-or ndarrays with different lengths or shapes) is deprecated. If you meant to do this, you must specify 'dtype=object' when creating the ndarray\n",
      "  return array(a, dtype, copy=False, order=order, subok=True)\n"
     ]
    },
    {
     "name": "stdout",
     "output_type": "stream",
     "text": [
      "Side:\t 4459\n",
      "Front:\t 2333\n",
      "Downwards:\t 1107\n",
      "Upwards:\t 401\n"
     ]
    }
   ],
   "source": [
    "# Erstellung des Datensets anhand übergebener Parameter\n",
    "data = DataPrep(size = 32, name=\"training_data_32\")\n",
    "data.make_training_data()"
   ]
  },
  {
   "cell_type": "markdown",
   "metadata": {},
   "source": [
    "# Einsehen des erstellten Datensatzes"
   ]
  },
  {
   "cell_type": "code",
   "execution_count": 4,
   "metadata": {},
   "outputs": [],
   "source": [
    "dir = \"/home/dl4/training_datasets/\"\n",
    "training_data = np.load(dir + \"training_data_32.npy\", allow_pickle=True)"
   ]
  },
  {
   "cell_type": "code",
   "execution_count": 5,
   "metadata": {},
   "outputs": [
    {
     "data": {
      "text/plain": [
       "(8300, 2)"
      ]
     },
     "execution_count": 5,
     "metadata": {},
     "output_type": "execute_result"
    }
   ],
   "source": [
    "training_data.shape"
   ]
  },
  {
   "cell_type": "code",
   "execution_count": 6,
   "metadata": {},
   "outputs": [
    {
     "data": {
      "image/png": "[encoded data removed]",
      "text/plain": [
       "<Figure size 432x288 with 1 Axes>"
      ]
     },
     "metadata": {
      "needs_background": "light"
     },
     "output_type": "display_data"
    },
    {
     "name": "stdout",
     "output_type": "stream",
     "text": [
      "1\n"
     ]
    },
    {
     "data": {
      "image/png": "[encoded data removed]",
      "text/plain": [
       "<Figure size 432x288 with 1 Axes>"
      ]
     },
     "metadata": {
      "needs_background": "light"
     },
     "output_type": "display_data"
    },
    {
     "name": "stdout",
     "output_type": "stream",
     "text": [
      "0\n"
     ]
    },
    {
     "data": {
      "image/png": "[encoded data removed]",
      "text/plain": [
       "<Figure size 432x288 with 1 Axes>"
      ]
     },
     "metadata": {
      "needs_background": "light"
     },
     "output_type": "display_data"
    },
    {
     "name": "stdout",
     "output_type": "stream",
     "text": [
      "0\n"
     ]
    },
    {
     "data": {
      "image/png": "[encoded data removed]",
      "text/plain": [
       "<Figure size 432x288 with 1 Axes>"
      ]
     },
     "metadata": {
      "needs_background": "light"
     },
     "output_type": "display_data"
    },
    {
     "name": "stdout",
     "output_type": "stream",
     "text": [
      "1\n"
     ]
    },
    {
     "data": {
      "image/png": "[encoded data removed]",
      "text/plain": [
       "<Figure size 432x288 with 1 Axes>"
      ]
     },
     "metadata": {
      "needs_background": "light"
     },
     "output_type": "display_data"
    },
    {
     "name": "stdout",
     "output_type": "stream",
     "text": [
      "0\n"
     ]
    }
   ],
   "source": [
    "# Darstellung gesampleter Bilder\n",
    "import matplotlib.pyplot as plt\n",
    "\n",
    "for i in range(5):\n",
    "    plt.imshow(training_data[i][0])\n",
    "    plt.show()\n",
    "    print(training_data[i][1])"
   ]
  }
 ],
 "metadata": {
  "kernelspec": {
   "display_name": "Python 3",
   "language": "python",
   "name": "python3"
  },
  "language_info": {
   "codemirror_mode": {
    "name": "ipython",
    "version": 3
   },
   "file_extension": ".py",
   "mimetype": "text/x-python",
   "name": "python",
   "nbconvert_exporter": "python",
   "pygments_lexer": "ipython3",
   "version": "3.8.5"
  }
 },
 "nbformat": 4,
 "nbformat_minor": 2
}
