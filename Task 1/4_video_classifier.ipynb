{
 "cells": [
  {
   "cell_type": "markdown",
   "metadata": {},
   "source": [
    "# Klassifizierung eines kompletten Videos"
   ]
  },
  {
   "cell_type": "code",
   "execution_count": 9,
   "metadata": {},
   "outputs": [],
   "source": [
    "import cv2\n",
    "import numpy as np\n",
    "import tensorflow as tf\n",
    "import matplotlib.pyplot as plt\n",
    "import time\n",
    "\n",
    "def video_classifier(video_path):\n",
    "    #Klassenbenennung für das print() am Ende\n",
    "    class_names = [\"von der Seite\", \"von vorne\", \"von oben\", \"von unten\"]\n",
    "    #Liste die mit den frame-predicitons des Videos befüllt wird\n",
    "    predictions = [0,0,0,0]\n",
    "    #Frame-Counter\n",
    "    frames = 0\n",
    "    #Summe der Softmax Werte\n",
    "    sum_softmax = 0\n",
    "    # das ausgewählte Modell wird geladen\n",
    "    model = tf.keras.models.load_model('/home/dl4/models/model_64_color_few_15')\n",
    "    #\"starte\" Timer sobald Modell ausgewählt wurde\n",
    "    start = time.time()\n",
    "    # das ausgewählte Video wird geladen\n",
    "    vidcap = cv2.VideoCapture(video_path)\n",
    "    \n",
    "    #Videotrennung in Frames wird initiert\n",
    "    success, image = vidcap.read()\n",
    "    while success:\n",
    "        # einzelnes Frame wird entnommen\n",
    "        success,image = vidcap.read()\n",
    "        # sollte es kein images mehr geben, bricht die while-Schleife ab\n",
    "        if success != True:\n",
    "            break\n",
    "        image = cv2.resize(image, (64, 64))\n",
    "        image = image/255\n",
    "        # das Bild wird in ein tf-gerechtes Format gebracht\n",
    "        x = np.asarray(image).astype(np.float32)        \n",
    "        x = np.expand_dims(x, axis=0)\n",
    "        # Array mit den Score für das jeweilige Label\n",
    "        score = model.predict(x)\n",
    "        # Der Score wird von der Softmax funktion auf einen prozentualen Wert überführt\n",
    "        probability = tf.nn.softmax(score)\n",
    "        # Das Label mit der höchsten Wahrscheinlichkeit wird als Vorhersage getroffen (z.B. [0.7, 0.1, 0.1, 0.1] <- Label 0 (Side) wird als Vorhersage getroffen)\n",
    "        prediction = np.argmax(probability)\n",
    "        # Softmax-Wert des frames wird zu sum_softmax addiert\n",
    "        sum_softmax += np.max(probability)\n",
    "        # Liste wird mit den getroffenen Wahrscheinlichkeiten je Frame gefüllt\n",
    "        predictions[prediction] += 1\n",
    "        frames += 1\n",
    "    \n",
    "    # Zeitmessung nach Vorhersage des letzen Frames\n",
    "    end = time.time()\n",
    "    dauer = end - start\n",
    "    fps = frames/dauer\n",
    "    # Nominales Label für das print() wird deklariert\n",
    "    cam_pos = class_names[np.argmax(predictions)]\n",
    "    # Wahrscheinlichkeit/Sicherheit der Prognose wird berechnet (anhand der getroffenen Vorhersagen, je Frame)\n",
    "    ws = predictions[np.argmax(predictions)]/frames*100\n",
    "    #durschnittlicher Softmax-Wert (in Prozent)<- Aussage über die Konfidenz der Klassifizierung / Wie zuverlässig wurden die Frames im Schnitt klassifiziert\n",
    "    avg_softmax = (sum_softmax/frames)*100\n",
    "    # Der Videoname wird aus dem Videopfad entnommen\n",
    "    word_list = video_path.split(\"/\")\n",
    "    video = word_list[-1].split(\".\")\n",
    "    video_name = video[0]\n",
    "    \n",
    "    # Antwortsatz\n",
    "    print(\"Das Video\\033[1m {} \\033[0mist mit einer Wahrscheinlichkeit von\\033[1m {}% \\033[0m{} gefilmt worden.\".format(video_name, int(ws), cam_pos))\n",
    "    \n",
    "    # Zusatzinformationen (Dauer des Videos, Bearbeitungsgeschwindigkeit, Verteilung der Label, gesamte Bilderzahl)\n",
    "    return round(dauer, 2), int(fps), predictions, frames, round(avg_softmax, 2)"
   ]
  },
  {
   "cell_type": "code",
   "execution_count": 10,
   "metadata": {},
   "outputs": [
    {
     "name": "stdout",
     "output_type": "stream",
     "text": [
      "Das Video\u001b[1m turm_2 \u001b[0mist mit einer Wahrscheinlichkeit von\u001b[1m 77% \u001b[0mvon der Seite gefilmt worden.\n",
      "\n",
      "duration:\t\t\t4.63\n",
      "fps:\t\t\t\t56\n",
      "predictions_distribution:\t[202, 0, 60, 0]\n",
      "frames:\t\t\t\t262\n",
      "avg_softmax:\t\t\t98.33\n"
     ]
    }
   ],
   "source": [
    "a, b, c, d, e = video_classifier(\"/home/dl4/Praxistest/turm_2.mp4\")\n",
    "print(\"\\nduration:\\t\\t\\t{}\\nfps:\\t\\t\\t\\t{}\\npredictions_distribution:\\t{}\\nframes:\\t\\t\\t\\t{}\\navg_softmax:\\t\\t\\t{}\".format(a, b, c, d, e))\n",
    "\n"
   ]
  },
  {
   "cell_type": "code",
   "execution_count": null,
   "metadata": {},
   "outputs": [],
   "source": []
  }
 ],
 "metadata": {
  "kernelspec": {
   "display_name": "Python 3",
   "language": "python",
   "name": "python3"
  },
  "language_info": {
   "codemirror_mode": {
    "name": "ipython",
    "version": 3
   },
   "file_extension": ".py",
   "mimetype": "text/x-python",
   "name": "python",
   "nbconvert_exporter": "python",
   "pygments_lexer": "ipython3",
   "version": "3.8.5"
  }
 },
 "nbformat": 4,
 "nbformat_minor": 2
}
