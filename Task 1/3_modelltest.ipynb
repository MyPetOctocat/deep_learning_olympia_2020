{
 "cells": [
  {
   "cell_type": "markdown",
   "metadata": {},
   "source": [
    "# Modell mit Testdaten validieren"
   ]
  },
  {
   "cell_type": "code",
   "execution_count": 29,
   "metadata": {},
   "outputs": [],
   "source": [
    "import os\n",
    "import numpy as np\n",
    "import tensorflow as tf\n",
    "from tensorflow import keras"
   ]
  },
  {
   "cell_type": "code",
   "execution_count": 30,
   "metadata": {},
   "outputs": [
    {
     "name": "stdout",
     "output_type": "stream",
     "text": [
      "(2023, 2)\n"
     ]
    }
   ],
   "source": [
    "# Testdaten laden\n",
    "dir = \"/home/dl4/testing_datasets/\"\n",
    "testing_data = np.load(dir + \"test_data_64.npy\", allow_pickle=True)\n",
    "print(testing_data.shape)\n",
    " \n",
    "# Variablendeklaration (Modell, Auflösung, Zeilenzahl/Bilder)\n",
    "model_name = \"model_64_color_few_15\"\n",
    "res = 64\n",
    "bilder = len(testing_data)"
   ]
  },
  {
   "cell_type": "code",
   "execution_count": 31,
   "metadata": {
    "scrolled": false
   },
   "outputs": [
    {
     "name": "stdout",
     "output_type": "stream",
     "text": [
      "(2023, 64, 64, 3)\n"
     ]
    }
   ],
   "source": [
    "# Testdaten für Tensorflow aufbereiten\n",
    "\n",
    "# Datensatz in Features & Labels aufteilen\n",
    "test_image = testing_data[:,0]\n",
    "test_label = testing_data[:,1]\n",
    "\n",
    "# Array-\"Korpus\" mit der TensorFlow-gerechten Form instanziieren um diese mit den Daten zu befüllen\n",
    "test_img = np.zeros((bilder,res ,res , 3))\n",
    "# Befüllen des richtig-formatierten Arrays\n",
    "for i,img in enumerate(test_image):\n",
    "    test_img[i]= img\n",
    "\n",
    "print(test_img.shape)"
   ]
  },
  {
   "cell_type": "code",
   "execution_count": 32,
   "metadata": {},
   "outputs": [],
   "source": [
    "# Features normalisieren\n",
    "test_img = test_img/255\n"
   ]
  },
  {
   "cell_type": "code",
   "execution_count": 33,
   "metadata": {},
   "outputs": [],
   "source": [
    "#Datentyp für tf anpassen\n",
    "x = np.asarray(test_img).astype(np.float32)\n",
    "y = np.asarray(test_label).astype(np.float32)"
   ]
  },
  {
   "cell_type": "code",
   "execution_count": 34,
   "metadata": {},
   "outputs": [
    {
     "name": "stdout",
     "output_type": "stream",
     "text": [
      "Model: \"sequential_22\"\n",
      "_________________________________________________________________\n",
      "Layer (type)                 Output Shape              Param #   \n",
      "=================================================================\n",
      "conv2d_73 (Conv2D)           (None, 62, 62, 32)        896       \n",
      "_________________________________________________________________\n",
      "max_pooling2d_52 (MaxPooling (None, 31, 31, 32)        0         \n",
      "_________________________________________________________________\n",
      "conv2d_74 (Conv2D)           (None, 29, 29, 64)        18496     \n",
      "_________________________________________________________________\n",
      "flatten_16 (Flatten)         (None, 53824)             0         \n",
      "_________________________________________________________________\n",
      "dense_32 (Dense)             (None, 64)                3444800   \n",
      "_________________________________________________________________\n",
      "dense_33 (Dense)             (None, 4)                 260       \n",
      "=================================================================\n",
      "Total params: 3,464,452\n",
      "Trainable params: 3,464,452\n",
      "Non-trainable params: 0\n",
      "_________________________________________________________________\n"
     ]
    }
   ],
   "source": [
    "#Gespeichertes Modell aufrufen\n",
    "new_model = tf.keras.models.load_model('/home/dl4/models/{}'.format(model_name))\n",
    "new_model.summary()"
   ]
  },
  {
   "cell_type": "code",
   "execution_count": 35,
   "metadata": {},
   "outputs": [
    {
     "name": "stdout",
     "output_type": "stream",
     "text": [
      "model_64_color_few_15\n",
      "64/64 [==============================] - 0s 3ms/step - loss: 1.9309e-05 - accuracy: 1.0000\n",
      "Restored model, accuracy: 100.00%\n",
      "(2023, 4)\n"
     ]
    }
   ],
   "source": [
    "# Modell testen\n",
    "print(model_name)\n",
    "test_loss, test_acc = new_model.evaluate(x,  y, verbose=1)\n",
    "print('Restored model, accuracy: {:5.2f}%'.format(100 * test_acc))"
   ]
  }
 ],
 "metadata": {
  "kernelspec": {
   "display_name": "Python 3",
   "language": "python",
   "name": "python3"
  },
  "language_info": {
   "codemirror_mode": {
    "name": "ipython",
    "version": 3
   },
   "file_extension": ".py",
   "mimetype": "text/x-python",
   "name": "python",
   "nbconvert_exporter": "python",
   "pygments_lexer": "ipython3",
   "version": "3.8.5"
  }
 },
 "nbformat": 4,
 "nbformat_minor": 2
}
